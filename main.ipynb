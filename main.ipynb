{
 "cells": [
  {
   "cell_type": "code",
   "execution_count": 1,
   "metadata": {},
   "outputs": [
    {
     "data": {
      "text/plain": [
       "[]"
      ]
     },
     "execution_count": 1,
     "metadata": {},
     "output_type": "execute_result"
    }
   ],
   "source": [
    "#from setup import insert_all  # Esse arquivo serve exclusivamente pra inserir dados hipotéticos no DB\n",
    "import classes as c\n",
    "from random import seed\n",
    "from random import randint\n",
    "# seed random number generator\n",
    "seed(1)\n",
    "\n",
    "c.db.clear()"
   ]
  },
  {
   "cell_type": "code",
   "execution_count": 2,
   "metadata": {},
   "outputs": [],
   "source": [
    "# Criando casas\n",
    "grifinoria = c.Casa('Grifinoria')\n",
    "sonserina = c.Casa('Sonserina')\n",
    "corvinal = c.Casa('Corvinal')\n",
    "lufalufa = c.Casa('Lufa-Lufa')\n",
    "casas = [grifinoria, sonserina, corvinal, lufalufa]"
   ]
  },
  {
   "cell_type": "code",
   "execution_count": 3,
   "metadata": {},
   "outputs": [],
   "source": [
    "# Criando alunos\n",
    "harry = c.Aluno('Harry Potter', 'Grifinoria')\n",
    "rubens = c.Aluno('Rubens Cividati', 'Grifinoria')\n",
    "malfoy = c.Aluno('Draco Malfoy', 'Sonserina')\n",
    "luna = c.Aluno('Luna Lovegood', 'Corvinal')\n",
    "cho = c.Aluno('Cho Chang', 'Lufa-Lufa')\n",
    "alunos = [harry, rubens,  malfoy, luna, cho]"
   ]
  },
  {
   "cell_type": "code",
   "execution_count": 4,
   "metadata": {},
   "outputs": [],
   "source": [
    "# torneio de bruxos\n",
    "\n",
    "for a1 in alunos:\n",
    "    aluno1 = a1\n",
    "    for a2 in alunos:\n",
    "        aluno2 = a2\n",
    "\n",
    "        # skipando alunos de mesma casa em um confronto\n",
    "        # ou se for o mesmo aluno\n",
    "        if aluno1.casa == aluno2.casa:\n",
    "            pass\n",
    "        if aluno1.nome == aluno2.nome:\n",
    "            pass\n",
    "        \n",
    "        # combate aqui\n",
    "        # aluno1 x aluno2\n",
    "        for _ in range(10):\n",
    "            value = randint(1, 10)\n",
    "\n",
    "            if value%2==0:\n",
    "                #aluno1 wins \n",
    "                aluno1.addPontos(value)\n",
    "                \n",
    "            else:   \n",
    "                #aluno2 wins\n",
    "                aluno2.addPontos(value)\n"
   ]
  },
  {
   "cell_type": "code",
   "execution_count": 7,
   "metadata": {},
   "outputs": [
    {
     "name": "stdout",
     "output_type": "stream",
     "text": [
      "Nome: Grifinoria\n",
      "Pontos: 577\n",
      "Alunos: 2\n",
      "\n",
      "Nome: Sonserina\n",
      "Pontos: 310\n",
      "Alunos: 1\n",
      "\n",
      "Nome: Corvinal\n",
      "Pontos: 209\n",
      "Alunos: 1\n",
      "\n",
      "Nome: Lufa-Lufa\n",
      "Pontos: 324\n",
      "Alunos: 1\n",
      "\n",
      "Casa vencedora do torneio:\n",
      "Nome: Grifinoria\n",
      "Pontos: 577\n",
      "Alunos: 2\n",
      "\n"
     ]
    }
   ],
   "source": [
    "pts_casa = 0 \n",
    "for casa in casas:\n",
    "    if casa.pontos > pts_casa:\n",
    "        casa_vencedora = casa\n",
    "        pts_casa = casa.pontos\n",
    "    casa.read()\n",
    "\n",
    "print('Casa vencedora do torneio:')\n",
    "casa_vencedora.read()"
   ]
  }
 ],
 "metadata": {
  "interpreter": {
   "hash": "4eae043ba5f7f6f0048f9013d0dbaafc0d936e6e6ed71dfbe88d29c3846022cc"
  },
  "kernelspec": {
   "display_name": "Python 3.10.0 64-bit",
   "language": "python",
   "name": "python3"
  },
  "language_info": {
   "codemirror_mode": {
    "name": "ipython",
    "version": 3
   },
   "file_extension": ".py",
   "mimetype": "text/x-python",
   "name": "python",
   "nbconvert_exporter": "python",
   "pygments_lexer": "ipython3",
   "version": "3.10.0"
  },
  "orig_nbformat": 4
 },
 "nbformat": 4,
 "nbformat_minor": 2
}
